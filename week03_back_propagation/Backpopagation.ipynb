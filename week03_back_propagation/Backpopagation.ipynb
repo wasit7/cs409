{
 "cells": [
  {
   "cell_type": "markdown",
   "metadata": {},
   "source": [
    "![title](img/cross.png)\n",
    "[ref](http://playground.tensorflow.org)\n",
    "[to read](https://theclevermachine.wordpress.com/tag/backpropagation-algorithm/)"
   ]
  },
  {
   "cell_type": "markdown",
   "metadata": {},
   "source": [
    "# Sigmoid Function"
   ]
  },
  {
   "cell_type": "markdown",
   "metadata": {},
   "source": [
    "$$\n",
    "\\begin{align}\n",
    "                    g(x) & = \\frac{1}{1+e^{-x})}\\\\\n",
    "        \\frac{d}{dx}g(x) =\\nabla g & = (1-g).g \\\\\n",
    "                         & = \\frac{e^{x}}{(1 + e^{x})^2}\n",
    "\\end{align}\n",
    "$$\n",
    "[ref](http://mathworld.wolfram.com/SigmoidFunction.html)"
   ]
  },
  {
   "cell_type": "code",
   "execution_count": 1,
   "metadata": {},
   "outputs": [],
   "source": [
    "%matplotlib inline\n",
    "\n",
    "import numpy as np \n",
    "from matplotlib import pyplot as plt\n",
    "plt.style.use('ggplot')\n",
    "plt.rcParams['figure.figsize'] = (10, 5)\n",
    "from sympy import symbols, exp, diff\n",
    "from sympy.plotting import plot\n",
    "x = symbols('x')"
   ]
  },
  {
   "cell_type": "code",
   "execution_count": 2,
   "metadata": {},
   "outputs": [
    {
     "data": {
      "image/png": "[encoded data removed]",
      "text/plain": [
       "<matplotlib.figure.Figure at 0x8c47518>"
      ]
     },
     "metadata": {},
     "output_type": "display_data"
    }
   ],
   "source": [
    "g=1/(1+exp(-x))\n",
    "dg_x=diff(g) #d/dx g(x)=exp(-x)/(1 + exp(-x))**2\n",
    "dg_g=(1-g)*g #d/dx g(x)=(1-g)*g\n",
    "p1 = plot(g, (x, -5, 5), show=False, line_color='b', title=\"Sigmoid and Derivative\",  ylabel=\"\", magin=1)\n",
    "p2 = plot(dg_x, (x, -5, 5), show=False, line_color='g')\n",
    "p3 = plot(dg_g, (x, -5, 5), show=False, line_color='r')\n",
    "p3.style='wireframe'\n",
    "p1.extend(p2)\n",
    "p1.extend(p3)\n",
    "p1.show()"
   ]
  },
  {
   "cell_type": "markdown",
   "metadata": {},
   "source": [
    "# Steepest Descent method\n",
    "\n",
    "$$\n",
    "\\begin{align}\n",
    "        e &= y-y_p\\\\\n",
    "        x_{t+1} &= x_t+ e\\nabla y\\\\\n",
    "\\end{align}\n",
    "$$\n",
    "[ref](http://mathworld.wolfram.com/MethodofSteepestDescent.html)"
   ]
  },
  {
   "cell_type": "code",
   "execution_count": 3,
   "metadata": {},
   "outputs": [
    {
     "name": "stdout",
     "output_type": "stream",
     "text": [
      "matrix multiplication\n",
      "[[3 2]\n",
      " [6 7]]\n",
      "\n",
      "element-wise multiplication\n",
      "[[ 3  8]\n",
      " [ 0 -1]]\n",
      "\n"
     ]
    }
   ],
   "source": [
    "a=np.array([[1,2],\n",
    "            [2,1]])\n",
    "b=np.array([[3,4],\n",
    "            [0,-1]])\n",
    "\n",
    "print \"matrix multiplication\\n%s\\n\"%np.dot(a,b) \n",
    "print \"element-wise multiplication\\n%s\\n\"%(a*b)"
   ]
  },
  {
   "cell_type": "markdown",
   "metadata": {},
   "source": [
    "# Backpropagation"
   ]
  },
  {
   "cell_type": "code",
   "execution_count": 4,
   "metadata": {
    "collapsed": true
   },
   "outputs": [],
   "source": [
    "def g(x):    \n",
    "    return 1/(1+np.exp(-x))\n",
    "\n",
    "def grad_g(g):\n",
    "        return (1-g)*g"
   ]
  },
  {
   "cell_type": "code",
   "execution_count": 5,
   "metadata": {
    "collapsed": true
   },
   "outputs": [],
   "source": [
    "#input data [Nx3]\n",
    "X = np.array([[0,0,1],  # [x0, x1, 1]\n",
    "            [0,1,1],\n",
    "            [1,0,1],\n",
    "            [1,1,1]])\n",
    "\n",
    "#output data [Nx2] hot-one\n",
    "y = np.array([[0,1],\n",
    "             [1,0],\n",
    "             [1,0],\n",
    "             [0,1]])\n",
    "\n",
    "# 1 0\n",
    "# 0 1"
   ]
  },
  {
   "cell_type": "code",
   "execution_count": 6,
   "metadata": {
    "collapsed": true
   },
   "outputs": [],
   "source": [
    "np.random.seed(1)\n",
    "h = 2*np.random.random((3,4)) - 1  # [3x4] (2 inputs + 1 bias) x 4 nodes in the hidden layer\n",
    "a = 2*np.random.random((4,2)) - 1  # [4x2] (4 nodes x 1 output) - no bias term in this output layer."
   ]
  },
  {
   "cell_type": "code",
   "execution_count": 7,
   "metadata": {},
   "outputs": [
    {
     "name": "stdout",
     "output_type": "stream",
     "text": [
      "Error: 0.499545190569\n",
      "Error: 0.00962754972601\n",
      "Error: 0.00658457455354\n",
      "Error: 0.00529996681447\n",
      "Error: 0.0045510990524\n",
      "Error: 0.00404701084759\n",
      "Error: 0.00367845256659\n",
      "Error: 0.00339406012759\n",
      "Error: 0.00316611253212\n",
      "Error: 0.00297817041718\n",
      "Output after training\n",
      "[[ 0.00227758  0.99772324]\n",
      " [ 0.99859103  0.00140902]\n",
      " [ 0.99630505  0.00369392]\n",
      " [ 0.00389898  0.99610174]]\n"
     ]
    }
   ],
   "source": [
    "\n",
    "for j in xrange(100000):  \n",
    "    \n",
    "    # Calculate forward through the network.\n",
    "    l0 = g(np.dot(X, h))  #[Nx3]x[3x4]\n",
    "    l1 = g(np.dot(l0, a)) #[Nx4]x[4x2]\n",
    "    \n",
    "    # Back propagation of errors using the chain rule. \n",
    "    l1_error = y - l1     #[Nx2]\n",
    "    if(j % 10000) == 0:   # Only print the error every 10000 steps \n",
    "        print(\"Error: \" + str(np.mean(np.abs(l1_error))))\n",
    "        \n",
    "    l1_delta = l1_error * grad_g(l1)    #[Nx2]\n",
    "    \n",
    "    l0_error = l1_delta.dot(a.T)        #[Nx2]x[2x4]\n",
    "    \n",
    "    l0_delta = l0_error * grad_g(l0)    #[Nx4]\n",
    "    \n",
    "    #update weights (no learning rate term)\n",
    "    h += X.T.dot(l0_delta)              #[3xN]x[Nx4]\n",
    "    a += l0.T.dot(l1_delta)             #[4xN]x[Nx2]\n",
    "    \n",
    "    \n",
    "print(\"Output after training\")\n",
    "print(l1)"
   ]
  },
  {
   "cell_type": "markdown",
   "metadata": {},
   "source": []
  },
  {
   "cell_type": "code",
   "execution_count": null,
   "metadata": {
    "collapsed": true
   },
   "outputs": [],
   "source": []
  }
 ],
 "metadata": {
  "anaconda-cloud": {},
  "kernelspec": {
   "display_name": "Python 2",
   "language": "python",
   "name": "python2"
  },
  "language_info": {
   "codemirror_mode": {
    "name": "ipython",
    "version": 2
   },
   "file_extension": ".py",
   "mimetype": "text/x-python",
   "name": "python",
   "nbconvert_exporter": "python",
   "pygments_lexer": "ipython2",
   "version": "2.7.13"
  }
 },
 "nbformat": 4,
 "nbformat_minor": 1
}
